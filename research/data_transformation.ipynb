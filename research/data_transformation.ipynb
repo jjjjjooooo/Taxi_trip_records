{
 "cells": [
  {
   "cell_type": "code",
   "execution_count": 1,
   "metadata": {},
   "outputs": [],
   "source": [
    "import os"
   ]
  },
  {
   "cell_type": "code",
   "execution_count": 2,
   "metadata": {},
   "outputs": [],
   "source": [
    "os.chdir(\"../\")"
   ]
  },
  {
   "cell_type": "code",
   "execution_count": 3,
   "metadata": {},
   "outputs": [
    {
     "data": {
      "text/plain": [
       "'d:\\\\Dropbox\\\\Self-Development\\\\Coding_Projects\\\\Taxi_trip_records'"
      ]
     },
     "execution_count": 3,
     "metadata": {},
     "output_type": "execute_result"
    }
   ],
   "source": [
    "os.getcwd()"
   ]
  },
  {
   "cell_type": "code",
   "execution_count": 5,
   "metadata": {},
   "outputs": [],
   "source": [
    "from dataclasses import dataclass\n",
    "from pathlib import Path\n",
    "\n",
    "@dataclass(frozen=True)\n",
    "class DataTransformationConfig:\n",
    "    root_dir: Path\n",
    "    data_path: Path\n",
    "    lowest_speed:float\n",
    "    highest_speed:float\n",
    "    shortest_trip_distance:float\n",
    "    shortest_trip_duration:int\n",
    "    least_cost:float"
   ]
  },
  {
   "cell_type": "code",
   "execution_count": 6,
   "metadata": {},
   "outputs": [],
   "source": [
    "from src.constants import *\n",
    "from src.utils.utils import *\n",
    "\n",
    "class ConfigurationManager:\n",
    "    def __init__(self, config_filepath=CONFIG_FILE_PATH, params_filepath=PARAMS_FILE_PATH):\n",
    "        self.config = load_yaml(config_filepath)\n",
    "        self.params = load_yaml(params_filepath)\n",
    "\n",
    "        create_directories([self.config[\"artifacts_root\"]])\n",
    "        \n",
    "    def get_data_transformation_config(self) -> DataTransformationConfig:\n",
    "        config = self.config[\"data_transformation\"]\n",
    "        params = self.params[\"data_transformation\"]\n",
    "\n",
    "        create_directories([config[\"root_dir\"]])\n",
    "\n",
    "        data_transformation_config = DataTransformationConfig(\n",
    "            root_dir=config[\"root_dir\"],\n",
    "            data_path=config[\"data_path\"],\n",
    "            lowest_speed = params['lowest_speed'],\n",
    "            highest_speed = params['highest_speed'],\n",
    "            shortest_trip_distance = params['shortest_trip_distance'],\n",
    "            shortest_trip_duration = params['shortest_trip_duration'],\n",
    "            least_cost = params['least_cost']\n",
    "            )\n",
    "            \n",
    "\n",
    "        return data_transformation_config"
   ]
  },
  {
   "cell_type": "code",
   "execution_count": 7,
   "metadata": {},
   "outputs": [],
   "source": [
    "\n",
    "import os\n",
    "import sys\n",
    "import pandas as pd\n",
    "import pyarrow.parquet as pq\n",
    "from src.utils.exception import CustomException\n",
    "from src.utils.logger import logger\n",
    "from src.constants import *\n",
    "from dateutil.relativedelta import relativedelta\n",
    "\n",
    "\n",
    "class DataTransformation:\n",
    "    def __init__(self, config: DataTransformationConfig):\n",
    "        self.config = config\n",
    "\n",
    "    def find_column_name(self, columns, keyword):\n",
    "        \"\"\"Find a column name containing a specific keyword.\"\"\"\n",
    "        return next((col for col in columns if keyword in col), None)\n",
    "\n",
    "    def calculate_trip_duration_and_speed(self, df):\n",
    "        \"\"\"Calculate trip duration in seconds and speed in miles per hour.\"\"\"\n",
    "        df['trip_duration'] = (\n",
    "            pd.to_datetime(df['dropoff_datetime'], errors='coerce') -\n",
    "            pd.to_datetime(df['pickup_datetime'], errors='coerce')\n",
    "        ).dt.total_seconds()\n",
    "        df['speed'] = df['trip_distance'] / (df['trip_duration'] / 3600)\n",
    "        return df\n",
    "\n",
    "    def data_cleaning(self):\n",
    "        \"\"\"\n",
    "        Processes and cleans the taxi trip data files stored in a specified directory.\n",
    "        \n",
    "        This function iterates through each file in the data directory, performs cleaning and transformation operations, and saves the processed data to a new file. Cleaning operations include renaming columns, dropping rows with missing values, and calculating additional metrics like trip duration and speed.\n",
    "\n",
    "        For each file:\n",
    "        - Skips processing if the pruned file already exists in the output directory.\n",
    "        - Renames columns related to pickup datetime, dropoff datetime, and total amount for consistency.\n",
    "        - Drops rows with missing values in critical columns.\n",
    "        - Calculates the trip duration in seconds and the speed in miles per hour.\n",
    "        - Filters the data based on predefined configuration thresholds for speed, trip distance, trip duration, and total amount.\n",
    "        - Saves the cleaned and pruned data as a new Parquet file in the output directory.\n",
    "        \n",
    "        Exceptions are logged and raised as CustomException for further handling.\n",
    "\n",
    "        Raises:\n",
    "            CustomException: If any error occurs during the data cleaning process.\n",
    "        \"\"\"\n",
    "        try:\n",
    "            for filename in os.listdir(self.config.data_path):\n",
    "                input_path = os.path.join(self.config.data_path, filename)\n",
    "                output_path = os.path.join(self.config.root_dir, f\"pruned-{filename}\")\n",
    "\n",
    "                start_date = pd.to_datetime(\n",
    "                    filename.split(\"_\")[-1].replace(\".parquet\", \"\") + \"-01\"\n",
    "                )\n",
    "                end_date = start_date + relativedelta(months=1)\n",
    "\n",
    "                start_date_str = start_date.strftime(\"%Y-%m-%d\")\n",
    "                end_date_str = end_date.strftime(\"%Y-%m-%d\")\n",
    "\n",
    "                if os.path.exists(output_path):\n",
    "                    logger.info(f\"Skipping existing file: {output_path}\")\n",
    "                    continue\n",
    "\n",
    "                logger.info(f\"Processing file: {filename}\")\n",
    "                df = pq.read_table(input_path).to_pandas().rename(columns=str.lower)\n",
    "\n",
    "                df = df.rename(\n",
    "                    columns={\n",
    "                        self.find_column_name(df.columns, \"pickup\"): \"pickup_datetime\",\n",
    "                        self.find_column_name(\n",
    "                            df.columns, \"dropoff\"\n",
    "                        ): \"dropoff_datetime\",\n",
    "                        self.find_column_name(df.columns, \"total\"): \"total_amount\",\n",
    "                    }\n",
    "                )\n",
    "\n",
    "                df = df.dropna(\n",
    "                    subset=[\n",
    "                        \"pickup_datetime\",\n",
    "                        \"dropoff_datetime\",\n",
    "                        \"total_amount\",\n",
    "                        \"trip_distance\",\n",
    "                    ]\n",
    "                )\n",
    "                df = self.calculate_trip_duration_and_speed(df)\n",
    "\n",
    "                pruned_df = df.query(\n",
    "                    f\"{self.config.lowest_speed} < speed < {self.config.highest_speed} and \"\n",
    "                    f\"trip_distance > {self.config.shortest_trip_distance} and \"\n",
    "                    f\"trip_duration > {self.config.shortest_trip_duration} and \"\n",
    "                    f\"total_amount > {self.config.least_cost} and \"\n",
    "                    f\"'{start_date_str}' <= pickup_datetime < '{end_date_str}'\"\n",
    "                ).copy()\n",
    "                \n",
    "                pruned_df[\"date\"] = pd.to_datetime(pruned_df[\"pickup_datetime\"]).dt.date\n",
    "\n",
    "                pruned_df.to_parquet(output_path, index=False)\n",
    "                logger.info(f\"Pruned data saved to {output_path}\")\n",
    "\n",
    "        except Exception as e:\n",
    "            logger.error(f\"Error during data cleaning: {e}\")\n",
    "            raise CustomException(f\"Data cleaning failed: {e}\", sys)"
   ]
  },
  {
   "cell_type": "code",
   "execution_count": null,
   "metadata": {},
   "outputs": [],
   "source": [
    "try:\n",
    "    config = ConfigurationManager()\n",
    "    data_transformation_config = config.get_data_transformation_config()\n",
    "    data_transformation = DataTransformation(config=data_transformation_config)\n",
    "    data_transformation.data_cleaning()\n",
    "except Exception as e:\n",
    "    raise CustomException(e, sys)"
   ]
  }
 ],
 "metadata": {
  "kernelspec": {
   "display_name": "Python 3",
   "language": "python",
   "name": "python3"
  },
  "language_info": {
   "codemirror_mode": {
    "name": "ipython",
    "version": 3
   },
   "file_extension": ".py",
   "mimetype": "text/x-python",
   "name": "python",
   "nbconvert_exporter": "python",
   "pygments_lexer": "ipython3",
   "version": "3.8.0"
  }
 },
 "nbformat": 4,
 "nbformat_minor": 2
}
