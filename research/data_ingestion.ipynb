{
 "cells": [
  {
   "cell_type": "code",
   "execution_count": 1,
   "metadata": {},
   "outputs": [],
   "source": [
    "import os"
   ]
  },
  {
   "cell_type": "code",
   "execution_count": 2,
   "metadata": {},
   "outputs": [],
   "source": [
    "os.chdir(\"../\")"
   ]
  },
  {
   "cell_type": "code",
   "execution_count": 3,
   "metadata": {},
   "outputs": [
    {
     "data": {
      "text/plain": [
       "'d:\\\\Dropbox\\\\Self-Development\\\\Coding_Projects\\\\Taxi_trip_records'"
      ]
     },
     "execution_count": 3,
     "metadata": {},
     "output_type": "execute_result"
    }
   ],
   "source": [
    "os.getcwd()"
   ]
  },
  {
   "cell_type": "code",
   "execution_count": 4,
   "metadata": {},
   "outputs": [],
   "source": [
    "from dataclasses import dataclass\n",
    "from pathlib import Path\n",
    "\n",
    "@dataclass(frozen=True)\n",
    "class DataIngestionConfig:\n",
    "    root_dir: Path\n",
    "    source_URL: str\n",
    "    local_data_name: str\n",
    "    max_retries: int"
   ]
  },
  {
   "cell_type": "code",
   "execution_count": 5,
   "metadata": {},
   "outputs": [],
   "source": [
    "from src.utils.exception import CustomException\n",
    "from src.utils.logger import logger\n",
    "from src.utils.utils import *\n",
    "from src.constants import *\n",
    "\n",
    "class ConfigurationManager:\n",
    "    def __init__(\n",
    "        self,\n",
    "        config_filepath = CONFIG_FILE_PATH,\n",
    "        params_filepath = PARAMS_FILE_PATH):\n",
    "\n",
    "        self.config = load_yaml(config_filepath)\n",
    "        self.params = load_yaml(params_filepath)\n",
    "\n",
    "        create_directories([self.config['artifacts_root']])\n",
    "\n",
    "    def get_data_ingestion_config(self) -> DataIngestionConfig:\n",
    "        config = self.config['data_ingestion']\n",
    "        params = self.params[\"data_ingestion\"]\n",
    "\n",
    "        create_directories([config['root_dir']])\n",
    "\n",
    "        data_ingestion_config = DataIngestionConfig(\n",
    "            root_dir=config['root_dir'],\n",
    "            source_URL=config['source_URL'],\n",
    "            local_data_name=config['local_data_name'],\n",
    "            max_retries=params['max_retries']\n",
    "        )\n",
    "\n",
    "        return data_ingestion_config"
   ]
  },
  {
   "cell_type": "code",
   "execution_count": 6,
   "metadata": {},
   "outputs": [],
   "source": [
    "from src.utils.exception import CustomException\n",
    "from src.utils.logger import logger\n",
    "from src.utils.utils import *\n",
    "from src.constants import *\n",
    "\n",
    "from datetime import datetime\n",
    "import requests\n",
    "import time\n",
    "import sys\n",
    "\n",
    "class DataIngestion:\n",
    "    def __init__(self, config: DataIngestionConfig):\n",
    "        self.config = config\n",
    "        \n",
    "    def download_parquet_file(self, year: int, month: int, max_retries):\n",
    "        \"\"\"\n",
    "        Downloads a Parquet file for a specific year and month.\n",
    "\n",
    "        Parameters:\n",
    "            - year (int): The year for which to download the Parquet file.\n",
    "            - month (int): The month for which to download the Parquet file.\n",
    "            - target_directory (str): The directory where the file should be saved.\n",
    "\n",
    "        Raises:\n",
    "            - CustomException: If an error occurs during the download.\n",
    "        \"\"\"\n",
    "        parquet_url = self.config.source_URL.format(year, month)\n",
    "        \n",
    "        for i in range(max_retries):\n",
    "            try:\n",
    "                response = requests.get(parquet_url)\n",
    "            except Exception as e:\n",
    "                backoff_factor=0.3\n",
    "                wait_time = backoff_factor * (2 ** i)\n",
    "                time.sleep(wait_time)\n",
    "                logger.error(f'Connection error with yellow_tripdata_{year}-{month:02d}.parquet: {str(e)}')\n",
    "\n",
    "        if response.status_code == 200:\n",
    "            file_name = self.config.local_data_name.format(year, month)\n",
    "            file_path = os.path.join(self.config.root_dir, file_name)\n",
    "            \n",
    "            with open(file_path, 'wb') as file:\n",
    "                file.write(response.content)\n",
    "\n",
    "            logger.info('File {} successfully downloaded to {}'.format(file_name, self.config.root_dir))\n",
    "        else:\n",
    "            logger.info(f\"Failed to download yellow_tripdata_{year}-{month:02d}.parquet. Status code: {response.status_code}\")\n",
    "            raise CustomException(f\"Failed to download yellow_tripdata_{year}-{month:02d}.parquet. Status code: {response.status_code}\", sys)\n",
    "        \n",
    "    def extract_date(self, filename):\n",
    "        \"\"\"\n",
    "        Extracts the year and month information from the filename.\n",
    "\n",
    "        Parameters:\n",
    "            - filename (str): The name of the file.\n",
    "\n",
    "        Returns:\n",
    "            - tuple: A tuple containing the year and month extracted from the filename.\n",
    "        \"\"\"\n",
    "        year_month = filename.split('_')[2].split('.')[0]\n",
    "        year = int(year_month.split('-')[0])\n",
    "        month = int(year_month.split('-')[1])\n",
    "        return year, month\n",
    "    \n",
    "    def download_missing_parquet_files(self):\n",
    "        \"\"\"\n",
    "        download_missing_parquet_files function to manage the download process for missing Parquet files.\n",
    "        \"\"\"\n",
    "\n",
    "        # Get the list of existing files and their corresponding dates\n",
    "        files = os.listdir(self.config.root_dir)\n",
    "        existing_dates = set(map(self.extract_date, files))\n",
    "\n",
    "        # Generate a list of all possible dates up to the current month\n",
    "        start_year = 2009\n",
    "        full_dates = [(year, month) for year in range(start_year, datetime.now().year + 1) for month in range(1, 13) if (year, month) < (datetime.now().year, datetime.now().month)]\n",
    "\n",
    "        # Check for missing files and download them\n",
    "        for date in full_dates:\n",
    "            if date not in existing_dates:\n",
    "                try:\n",
    "                    self.download_parquet_file(date[0], date[1], self.config.max_retries)\n",
    "                except Exception as e:\n",
    "                    logger.error(str(e))\n",
    "                    "
   ]
  },
  {
   "cell_type": "code",
   "execution_count": 8,
   "metadata": {},
   "outputs": [
    {
     "name": "stdout",
     "output_type": "stream",
     "text": [
      "[2024-01-27 11:19:15,484: INFO: utils: yaml file: config\\config.yaml loaded successfully]\n",
      "[2024-01-27 11:19:15,487: INFO: utils: yaml file: params.yaml loaded successfully]\n",
      "[2024-01-27 11:19:15,488: INFO: utils: created directory at: artifacts]\n",
      "[2024-01-27 11:19:15,489: INFO: utils: created directory at: artifacts/data_ingestion/]\n",
      "[2024-01-27 11:19:15,822: ERROR: 2886654169: Connection error with yellow_tripdata_2023-11.parquet: ('Connection aborted.', ConnectionResetError(10054, 'An existing connection was forcibly closed by the remote host', None, 10054, None))]\n",
      "[2024-01-27 11:19:16,450: ERROR: 2886654169: Connection error with yellow_tripdata_2023-11.parquet: ('Connection aborted.', ConnectionResetError(10054, 'An existing connection was forcibly closed by the remote host', None, 10054, None))]\n",
      "[2024-01-27 11:19:17,686: ERROR: 2886654169: Connection error with yellow_tripdata_2023-11.parquet: ('Connection aborted.', ConnectionResetError(10054, 'An existing connection was forcibly closed by the remote host', None, 10054, None))]\n",
      "[2024-01-27 11:19:20,122: ERROR: 2886654169: Connection error with yellow_tripdata_2023-11.parquet: ('Connection aborted.', ConnectionResetError(10054, 'An existing connection was forcibly closed by the remote host', None, 10054, None))]\n",
      "[2024-01-27 11:19:24,960: ERROR: 2886654169: Connection error with yellow_tripdata_2023-11.parquet: ('Connection aborted.', ConnectionResetError(10054, 'An existing connection was forcibly closed by the remote host', None, 10054, None))]\n",
      "[2024-01-27 11:19:34,598: ERROR: 2886654169: Connection error with yellow_tripdata_2023-11.parquet: ('Connection aborted.', ConnectionResetError(10054, 'An existing connection was forcibly closed by the remote host', None, 10054, None))]\n",
      "[2024-01-27 11:19:53,834: ERROR: 2886654169: Connection error with yellow_tripdata_2023-11.parquet: ('Connection aborted.', ConnectionResetError(10054, 'An existing connection was forcibly closed by the remote host', None, 10054, None))]\n",
      "[2024-01-27 11:20:32,266: ERROR: 2886654169: Connection error with yellow_tripdata_2023-11.parquet: ('Connection aborted.', ConnectionResetError(10054, 'An existing connection was forcibly closed by the remote host', None, 10054, None))]\n",
      "[2024-01-27 11:21:49,110: ERROR: 2886654169: Connection error with yellow_tripdata_2023-11.parquet: ('Connection aborted.', ConnectionResetError(10054, 'An existing connection was forcibly closed by the remote host', None, 10054, None))]\n",
      "[2024-01-27 11:24:22,764: ERROR: 2886654169: Connection error with yellow_tripdata_2023-11.parquet: ('Connection aborted.', ConnectionResetError(10054, 'An existing connection was forcibly closed by the remote host', None, 10054, None))]\n",
      "[2024-01-27 11:24:22,766: ERROR: 2886654169: local variable 'response' referenced before assignment]\n",
      "[2024-01-27 11:24:23,109: ERROR: 2886654169: Connection error with yellow_tripdata_2023-12.parquet: ('Connection aborted.', ConnectionResetError(10054, 'An existing connection was forcibly closed by the remote host', None, 10054, None))]\n",
      "[2024-01-27 11:24:23,751: ERROR: 2886654169: Connection error with yellow_tripdata_2023-12.parquet: ('Connection aborted.', ConnectionResetError(10054, 'An existing connection was forcibly closed by the remote host', None, 10054, None))]\n",
      "[2024-01-27 11:24:24,982: ERROR: 2886654169: Connection error with yellow_tripdata_2023-12.parquet: ('Connection aborted.', ConnectionResetError(10054, 'An existing connection was forcibly closed by the remote host', None, 10054, None))]\n",
      "[2024-01-27 11:24:27,411: ERROR: 2886654169: Connection error with yellow_tripdata_2023-12.parquet: ('Connection aborted.', ConnectionResetError(10054, 'An existing connection was forcibly closed by the remote host', None, 10054, None))]\n",
      "[2024-01-27 11:24:37,526: ERROR: 2886654169: Connection error with yellow_tripdata_2023-12.parquet: ('Connection aborted.', ConnectionResetError(10054, 'An existing connection was forcibly closed by the remote host', None, 10054, None))]\n",
      "[2024-01-27 11:24:56,757: ERROR: 2886654169: Connection error with yellow_tripdata_2023-12.parquet: ('Connection aborted.', ConnectionResetError(10054, 'An existing connection was forcibly closed by the remote host', None, 10054, None))]\n",
      "[2024-01-27 11:25:35,194: ERROR: 2886654169: Connection error with yellow_tripdata_2023-12.parquet: ('Connection aborted.', ConnectionResetError(10054, 'An existing connection was forcibly closed by the remote host', None, 10054, None))]\n",
      "[2024-01-27 11:26:52,047: ERROR: 2886654169: Connection error with yellow_tripdata_2023-12.parquet: ('Connection aborted.', ConnectionResetError(10054, 'An existing connection was forcibly closed by the remote host', None, 10054, None))]\n",
      "[2024-01-27 11:29:25,691: ERROR: 2886654169: Connection error with yellow_tripdata_2023-12.parquet: ('Connection aborted.', ConnectionResetError(10054, 'An existing connection was forcibly closed by the remote host', None, 10054, None))]\n",
      "[2024-01-27 11:29:25,693: INFO: 2886654169: Failed to download yellow_tripdata_2023-12.parquet. Status code: 403]\n",
      "[2024-01-27 11:29:25,694: ERROR: 2886654169: 'NoneType' object has no attribute 'tb_frame']\n"
     ]
    }
   ],
   "source": [
    "try:\n",
    "    config = ConfigurationManager()\n",
    "    data_ingestion_config = config.get_data_ingestion_config()\n",
    "    data_ingestion = DataIngestion(config=data_ingestion_config)\n",
    "    data_ingestion.download_missing_parquet_files()\n",
    "except Exception as e:\n",
    "    raise CustomException(e, sys)"
   ]
  }
 ],
 "metadata": {
  "kernelspec": {
   "display_name": "Python 3",
   "language": "python",
   "name": "python3"
  },
  "language_info": {
   "codemirror_mode": {
    "name": "ipython",
    "version": 3
   },
   "file_extension": ".py",
   "mimetype": "text/x-python",
   "name": "python",
   "nbconvert_exporter": "python",
   "pygments_lexer": "ipython3",
   "version": "3.8.0"
  }
 },
 "nbformat": 4,
 "nbformat_minor": 2
}
